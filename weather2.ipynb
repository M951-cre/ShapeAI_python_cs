{
  "nbformat": 4,
  "nbformat_minor": 0,
  "metadata": {
    "colab": {
      "name": "weather2.ipynb",
      "provenance": []
    },
    "kernelspec": {
      "name": "python3",
      "display_name": "Python 3"
    },
    "language_info": {
      "name": "python"
    }
  },
  "cells": [
    {
      "cell_type": "code",
      "metadata": {
        "id": "eEDMtxePSFW6"
      },
      "source": [
        "import requests"
      ],
      "execution_count": 2,
      "outputs": []
    },
    {
      "cell_type": "code",
      "metadata": {
        "id": "4i3psk-hSHuH"
      },
      "source": [
        "from datetime import datetime"
      ],
      "execution_count": 3,
      "outputs": []
    },
    {
      "cell_type": "code",
      "metadata": {
        "id": "ErffsuWpSKSl"
      },
      "source": [
        "api_key= '1fe2092681781e893a5040454b688070'"
      ],
      "execution_count": 4,
      "outputs": []
    },
    {
      "cell_type": "code",
      "metadata": {
        "colab": {
          "base_uri": "https://localhost:8080/"
        },
        "id": "xK5vgRJJSNY0",
        "outputId": "c07ad449-9b71-4f0b-9831-0a92073afc4b"
      },
      "source": [
        "location = input(\"enter the city name:\")"
      ],
      "execution_count": 5,
      "outputs": [
        {
          "output_type": "stream",
          "text": [
            "enter the city name:delhi\n"
          ],
          "name": "stdout"
        }
      ]
    },
    {
      "cell_type": "code",
      "metadata": {
        "id": "Y1KM_j3RSPs-"
      },
      "source": [
        "complete_api_link = \"https://api.openweathermap.org/data/2.5/weather?q=\"+location+\"&appid=\"+api_key"
      ],
      "execution_count": 6,
      "outputs": []
    },
    {
      "cell_type": "code",
      "metadata": {
        "id": "SHJk03EXSS6t"
      },
      "source": [
        "api_link = requests.get(complete_api_link)"
      ],
      "execution_count": 7,
      "outputs": []
    },
    {
      "cell_type": "code",
      "metadata": {
        "id": "KOpUFt10SU9G"
      },
      "source": [
        "api_data = api_link.json()"
      ],
      "execution_count": 8,
      "outputs": []
    },
    {
      "cell_type": "code",
      "metadata": {
        "id": "-57DqakTSW4e"
      },
      "source": [
        "temp_city = ((api_data['main']['temp']))"
      ],
      "execution_count": 9,
      "outputs": []
    },
    {
      "cell_type": "code",
      "metadata": {
        "id": "B1uPiCjoSZcN"
      },
      "source": [
        "weather_desc = api_data['weather'][0]['description']"
      ],
      "execution_count": 10,
      "outputs": []
    },
    {
      "cell_type": "code",
      "metadata": {
        "id": "coEoEq7RSbx0"
      },
      "source": [
        "hmdt =  api_data['main']['humidity']"
      ],
      "execution_count": 11,
      "outputs": []
    },
    {
      "cell_type": "code",
      "metadata": {
        "id": "NYuaWbEGSeBt"
      },
      "source": [
        "\n",
        "wind_spd = api_data['wind']['speed']"
      ],
      "execution_count": 12,
      "outputs": []
    },
    {
      "cell_type": "code",
      "metadata": {
        "id": "bsgsn3CmSgo-"
      },
      "source": [
        "\n",
        "date_time = datetime.now().strftime(\"%d %b %Y | %I:%M:%S %P\")"
      ],
      "execution_count": 13,
      "outputs": []
    },
    {
      "cell_type": "code",
      "metadata": {
        "colab": {
          "base_uri": "https://localhost:8080/"
        },
        "id": "y-AKGy1SSk_U",
        "outputId": "60d17842-d987-40cd-f295-aff603200db2"
      },
      "source": [
        "print(\"--------------------------------------------------------------------------\")"
      ],
      "execution_count": 14,
      "outputs": [
        {
          "output_type": "stream",
          "text": [
            "--------------------------------------------------------------------------\n"
          ],
          "name": "stdout"
        }
      ]
    },
    {
      "cell_type": "code",
      "metadata": {
        "colab": {
          "base_uri": "https://localhost:8080/"
        },
        "id": "fVhM0FNISnz2",
        "outputId": "6254abc5-d957-48cb-81d8-33ec77cdf1e9"
      },
      "source": [
        "\n",
        "print(\"weather stats for - {} || {}\".format(location.upper(),date_time))"
      ],
      "execution_count": 15,
      "outputs": [
        {
          "output_type": "stream",
          "text": [
            "weather stats for - DELHI || 24 Jun 2021 | 04:34:16 am\n"
          ],
          "name": "stdout"
        }
      ]
    },
    {
      "cell_type": "code",
      "metadata": {
        "colab": {
          "base_uri": "https://localhost:8080/"
        },
        "id": "5FfGPu0lSsWP",
        "outputId": "478989a5-2f9e-4774-c44e-5dba78fa4422"
      },
      "source": [
        "print(\"current temperature is: {:.2f} deg C\".format(temp_city))"
      ],
      "execution_count": 16,
      "outputs": [
        {
          "output_type": "stream",
          "text": [
            "current temperature is: 305.20 deg C\n"
          ],
          "name": "stdout"
        }
      ]
    },
    {
      "cell_type": "code",
      "metadata": {
        "colab": {
          "base_uri": "https://localhost:8080/"
        },
        "id": "oBmxLCOBSvC3",
        "outputId": "1b433653-479f-4078-eaca-97ca6ce5b5f0"
      },
      "source": [
        "print(\"current weather desc :\",weather_desc )"
      ],
      "execution_count": 17,
      "outputs": [
        {
          "output_type": "stream",
          "text": [
            "current weather desc : haze\n"
          ],
          "name": "stdout"
        }
      ]
    },
    {
      "cell_type": "code",
      "metadata": {
        "colab": {
          "base_uri": "https://localhost:8080/"
        },
        "id": "huQin83uSxJU",
        "outputId": "0d91c477-ddc9-45ec-8995-690c1159b27d"
      },
      "source": [
        "\n",
        "print(\"current Humidity : \",hmdt, '%')"
      ],
      "execution_count": 18,
      "outputs": [
        {
          "output_type": "stream",
          "text": [
            "current Humidity :  66 %\n"
          ],
          "name": "stdout"
        }
      ]
    },
    {
      "cell_type": "code",
      "metadata": {
        "colab": {
          "base_uri": "https://localhost:8080/"
        },
        "id": "ryC7RiheSx8O",
        "outputId": "467038d8-ee96-4ffb-9afc-a4312a85ad7d"
      },
      "source": [
        "print(\"current wind speed: \",wind_spd,'kmph')"
      ],
      "execution_count": 19,
      "outputs": [
        {
          "output_type": "stream",
          "text": [
            "current wind speed:  3.6 kmph\n"
          ],
          "name": "stdout"
        }
      ]
    }
  ]
}